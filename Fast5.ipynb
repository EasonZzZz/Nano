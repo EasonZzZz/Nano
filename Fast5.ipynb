{
 "cells": [
  {
   "cell_type": "code",
   "execution_count": 1,
   "metadata": {
    "collapsed": true
   },
   "outputs": [],
   "source": [
    "import os\n",
    "import h5py\n",
    "import hdf5plugin\n",
    "import numpy as np\n",
    "\n",
    "os.environ['HDF5_PLUGIN_PATH'] = hdf5plugin.PLUGIN_PATH"
   ]
  },
  {
   "cell_type": "code",
   "execution_count": 2,
   "outputs": [],
   "source": [
    "f = h5py.File('fast5/0a0ace70-81bb-4b8d-901c-16bf3173c89f.fast5', 'r')\n",
    "reads = next(iter(f['/Raw/Reads'].values()))"
   ],
   "metadata": {
    "collapsed": false
   }
  },
  {
   "cell_type": "code",
   "execution_count": 3,
   "outputs": [
    {
     "ename": "OSError",
     "evalue": "Can't read data (can't open directory)",
     "output_type": "error",
     "traceback": [
      "\u001B[1;31m---------------------------------------------------------------------------\u001B[0m",
      "\u001B[1;31mOSError\u001B[0m                                   Traceback (most recent call last)",
      "Cell \u001B[1;32mIn[3], line 1\u001B[0m\n\u001B[1;32m----> 1\u001B[0m all_raw_signal \u001B[38;5;241m=\u001B[39m \u001B[43mreads\u001B[49m\u001B[43m[\u001B[49m\u001B[38;5;124;43m'\u001B[39;49m\u001B[38;5;124;43mSignal\u001B[39;49m\u001B[38;5;124;43m'\u001B[39;49m\u001B[43m]\u001B[49m\u001B[43m[\u001B[49m\u001B[43m:\u001B[49m\u001B[43m]\u001B[49m\n",
      "File \u001B[1;32mh5py\\_objects.pyx:54\u001B[0m, in \u001B[0;36mh5py._objects.with_phil.wrapper\u001B[1;34m()\u001B[0m\n",
      "File \u001B[1;32mh5py\\_objects.pyx:55\u001B[0m, in \u001B[0;36mh5py._objects.with_phil.wrapper\u001B[1;34m()\u001B[0m\n",
      "File \u001B[1;32mD:\\Programs\\anaconda3\\envs\\nano\\lib\\site-packages\\h5py\\_hl\\dataset.py:787\u001B[0m, in \u001B[0;36mDataset.__getitem__\u001B[1;34m(self, args, new_dtype)\u001B[0m\n\u001B[0;32m    785\u001B[0m mspace \u001B[38;5;241m=\u001B[39m h5s\u001B[38;5;241m.\u001B[39mcreate_simple(selection\u001B[38;5;241m.\u001B[39mmshape)\n\u001B[0;32m    786\u001B[0m fspace \u001B[38;5;241m=\u001B[39m selection\u001B[38;5;241m.\u001B[39mid\n\u001B[1;32m--> 787\u001B[0m \u001B[38;5;28;43mself\u001B[39;49m\u001B[38;5;241;43m.\u001B[39;49m\u001B[43mid\u001B[49m\u001B[38;5;241;43m.\u001B[39;49m\u001B[43mread\u001B[49m\u001B[43m(\u001B[49m\u001B[43mmspace\u001B[49m\u001B[43m,\u001B[49m\u001B[43m \u001B[49m\u001B[43mfspace\u001B[49m\u001B[43m,\u001B[49m\u001B[43m \u001B[49m\u001B[43marr\u001B[49m\u001B[43m,\u001B[49m\u001B[43m \u001B[49m\u001B[43mmtype\u001B[49m\u001B[43m,\u001B[49m\u001B[43m \u001B[49m\u001B[43mdxpl\u001B[49m\u001B[38;5;241;43m=\u001B[39;49m\u001B[38;5;28;43mself\u001B[39;49m\u001B[38;5;241;43m.\u001B[39;49m\u001B[43m_dxpl\u001B[49m\u001B[43m)\u001B[49m\n\u001B[0;32m    789\u001B[0m \u001B[38;5;66;03m# Patch up the output for NumPy\u001B[39;00m\n\u001B[0;32m    790\u001B[0m \u001B[38;5;28;01mif\u001B[39;00m arr\u001B[38;5;241m.\u001B[39mshape \u001B[38;5;241m==\u001B[39m ():\n",
      "File \u001B[1;32mh5py\\_objects.pyx:54\u001B[0m, in \u001B[0;36mh5py._objects.with_phil.wrapper\u001B[1;34m()\u001B[0m\n",
      "File \u001B[1;32mh5py\\_objects.pyx:55\u001B[0m, in \u001B[0;36mh5py._objects.with_phil.wrapper\u001B[1;34m()\u001B[0m\n",
      "File \u001B[1;32mh5py\\h5d.pyx:192\u001B[0m, in \u001B[0;36mh5py.h5d.DatasetID.read\u001B[1;34m()\u001B[0m\n",
      "File \u001B[1;32mh5py\\_proxy.pyx:112\u001B[0m, in \u001B[0;36mh5py._proxy.dset_rw\u001B[1;34m()\u001B[0m\n",
      "\u001B[1;31mOSError\u001B[0m: Can't read data (can't open directory)"
     ]
    }
   ],
   "source": [
    "all_raw_signal = reads['Signal'][:]"
   ],
   "metadata": {
    "collapsed": false
   }
  },
  {
   "cell_type": "code",
   "execution_count": 4,
   "outputs": [
    {
     "data": {
      "text/plain": "'D:\\\\Programs\\\\anaconda3\\\\envs\\\\nano\\\\lib\\\\site-packages\\\\hdf5plugin\\\\plugins'"
     },
     "execution_count": 4,
     "metadata": {},
     "output_type": "execute_result"
    }
   ],
   "source": [
    "os.environ['HDF5_PLUGIN_PATH']"
   ],
   "metadata": {
    "collapsed": false
   }
  },
  {
   "cell_type": "code",
   "execution_count": null,
   "outputs": [],
   "source": [],
   "metadata": {
    "collapsed": false
   }
  }
 ],
 "metadata": {
  "kernelspec": {
   "display_name": "Python 3",
   "language": "python",
   "name": "python3"
  },
  "language_info": {
   "codemirror_mode": {
    "name": "ipython",
    "version": 2
   },
   "file_extension": ".py",
   "mimetype": "text/x-python",
   "name": "python",
   "nbconvert_exporter": "python",
   "pygments_lexer": "ipython2",
   "version": "2.7.6"
  }
 },
 "nbformat": 4,
 "nbformat_minor": 0
}
